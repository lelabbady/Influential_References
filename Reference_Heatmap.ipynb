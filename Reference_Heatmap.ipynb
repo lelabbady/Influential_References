{
 "cells": [
  {
   "cell_type": "code",
   "execution_count": 3,
   "id": "327f234d",
   "metadata": {},
   "outputs": [],
   "source": [
    "import pandas as pd\n",
    "import json"
   ]
  },
  {
   "cell_type": "code",
   "execution_count": 19,
   "id": "29642955",
   "metadata": {
    "scrolled": false
   },
   "outputs": [],
   "source": [
    "\n",
    "  \n",
    "# Opening JSON file\n",
    "f = open('./paper_data.json')\n",
    "  \n",
    "# returns JSON object as \n",
    "# a dictionary\n",
    "data = json.load(f)\n",
    "  \n",
    "# Iterating through the json\n",
    "# list\n",
    "papers = []\n",
    "titles = []\n",
    "for i in data:\n",
    "    #print(i)\n",
    "    if 'csl' in i.keys() and i['csl'] != None:\n",
    "        #print(i['csl'])\n",
    "        t = i['csl']['title']\n",
    "        titles.append(t)\n",
    "  \n",
    "# Closing file\n",
    "f.close()"
   ]
  },
  {
   "cell_type": "code",
   "execution_count": 20,
   "id": "348b8474",
   "metadata": {},
   "outputs": [
    {
     "data": {
      "text/plain": [
       "63"
      ]
     },
     "execution_count": 20,
     "metadata": {},
     "output_type": "execute_result"
    }
   ],
   "source": [
    "len(titles)"
   ]
  },
  {
   "cell_type": "code",
   "execution_count": 21,
   "id": "7dfce3d7",
   "metadata": {},
   "outputs": [
    {
     "data": {
      "text/plain": [
       "['A Computational Inflection for Scientific Discovery',\n",
       " 'Communicating with Interactive Articles',\n",
       " 'Capture &amp; Analysis of Active Reading Behaviors for Interactive Articles on the Web',\n",
       " 'Literate Programming',\n",
       " 'Exploration and Explanation in Computational Notebooks',\n",
       " 'mage: Fluid Moves Between Code and Graphical Work in Computational Notebooks',\n",
       " 'Reactive, reproducible, collaborative: computational notebooks evolve',\n",
       " 'Idyll',\n",
       " 'Open collaborative writing with Manubot',\n",
       " 'Jupyter Book',\n",
       " 'Augmenting Scientific Papers with Just-in-Time, Position-Sensitive Definitions of Terms and Symbols',\n",
       " 'Math Augmentation: How Authors Enhance the Readability of Formulas using Novel Visual Design Practices',\n",
       " 'CiteRead: Integrating Localized Citation Contexts into Scientific Paper Reading',\n",
       " 'SciSight: Combining faceted navigation and research group detection for COVID-19 exploratory scientific search',\n",
       " 'The cost structure of sensemaking',\n",
       " 'Apolo',\n",
       " 'Edit wear and read wear',\n",
       " 'Successful classroom deployment of a social document annotation system',\n",
       " 'Robust intra-document locations',\n",
       " 'Voyagers and voyeurs',\n",
       " 'PAWLS: PDF Annotation With Labels and Structure',\n",
       " 'Some Results on the Function and Quality of Citations',\n",
       " 'Identifying Important Citations Using Contextual Information from Full Text',\n",
       " 'Measuring academic influence: Not all citations are equal',\n",
       " 'Science of science',\n",
       " 'Clickstream Data Yields High-Resolution Maps of Science',\n",
       " 'Eigenfactor: Measuring the value and prestige of scholarly journals',\n",
       " 'A Principal Component Analysis of 39 Scientific Impact Measures',\n",
       " 'Extracting a Knowledge Base of Mechanisms from COVID-19 Papers',\n",
       " 'Unsupervised word embeddings capture latent knowledge from materials science literature',\n",
       " 'Literature Based Discovery: Models, methods, and trends',\n",
       " 'Recent advances in biomedical literature mining',\n",
       " 'Construction of the Literature Graph in Semantic Scholar',\n",
       " 'TLDR: Extreme Summarization of Scientific Documents',\n",
       " 'GROBID: Combining Automatic Bibliographic Data Recognition and Term Extraction for Scholarship Publications',\n",
       " 'A Machine Reading System for Assembling Synthetic Paleontological Databases',\n",
       " 'Incremental knowledge base construction using DeepDive',\n",
       " 'ReVision',\n",
       " 'VILA: Improving Structured Content Extraction from Scientific PDFs Using Visual Layout Groups',\n",
       " 'Reverse‐Engineering Visualizations: Recovering Visual Encodings from Chart Images',\n",
       " 'Viziometrics: Analyzing Visual Information in the Scientific Literature',\n",
       " 'Improving the Accessibility of Scientific Documents: Current State, User Needs, and a System Solution to Enhance Scientific PDF Accessibility for Blind and Low Vision Users',\n",
       " 'SciA11y: Converting Scientific Papers to Accessible HTML',\n",
       " \"An Uninteresting Tour Through Why Our Research Papers Aren't Accessible\",\n",
       " 'Accessible Visualization via Natural Language Descriptions: A Four-Level Model of Semantic Content',\n",
       " 'Rich Screen Reader Experiences for Accessible Data Visualization',\n",
       " 'Facilitating Document Reading by Linking Text and Tables',\n",
       " 'Extracting and Retargeting Color Mappings from Bitmap Images of Visualizations',\n",
       " 'Graphical Overlays: Using Layered Elements to Aid Chart Reading',\n",
       " 'Towards Understanding How Readers Integrate Charts and Captions: A Case Study with Line Charts',\n",
       " 'Adaptive document layout',\n",
       " 'Fidyll: A Compiler for Cross-Format Data Stories &amp; Explorable Explanations',\n",
       " 'Visual Abstracts to Disseminate Research on Social Media',\n",
       " 'Review of automatic document formatting',\n",
       " 'Toward tighter tables',\n",
       " 'The unacknowledged convergence of open source, open access, and open science',\n",
       " 'Preregistration Is Hard, And Worthwhile',\n",
       " 'Is Preregistration Worthwhile?',\n",
       " 'Open Science: One Term, Five Schools of Thought',\n",
       " 'The state of OA: a large-scale analysis of the prevalence and impact of Open Access articles',\n",
       " 'Going digital',\n",
       " 'ArXiv at 20',\n",
       " 'Distill Hiatus']"
      ]
     },
     "execution_count": 21,
     "metadata": {},
     "output_type": "execute_result"
    }
   ],
   "source": [
    "titles"
   ]
  },
  {
   "cell_type": "markdown",
   "id": "704898b9",
   "metadata": {},
   "source": [
    "### To Dos\n",
    "\n",
    "- add tags to paper tiles\n",
    "- create bar chart based on tags (incorporate theory/tools distinction)\n",
    "- (find a more robust way to parse titles)\n",
    "- collect top infleuntial citations for each paper (from semantic scholar)\n",
    "- aggregate top papers for each 'group' - as defined by bar chart\n",
    "- create heatmap based on top paper data\n",
    "- publish to website"
   ]
  },
  {
   "cell_type": "code",
   "execution_count": null,
   "id": "893088c1",
   "metadata": {},
   "outputs": [],
   "source": []
  },
  {
   "cell_type": "code",
   "execution_count": null,
   "id": "1f558594",
   "metadata": {},
   "outputs": [],
   "source": []
  },
  {
   "cell_type": "code",
   "execution_count": null,
   "id": "15c5bca1",
   "metadata": {},
   "outputs": [],
   "source": []
  },
  {
   "cell_type": "code",
   "execution_count": null,
   "id": "ff814b32",
   "metadata": {},
   "outputs": [],
   "source": []
  },
  {
   "cell_type": "code",
   "execution_count": 23,
   "id": "39b343cd",
   "metadata": {},
   "outputs": [
    {
     "data": {
      "text/html": [
       "\n",
       "<div id=\"altair-viz-2b4be7bc223c42999a6ad965b01da63a\"></div>\n",
       "<script type=\"text/javascript\">\n",
       "  var VEGA_DEBUG = (typeof VEGA_DEBUG == \"undefined\") ? {} : VEGA_DEBUG;\n",
       "  (function(spec, embedOpt){\n",
       "    let outputDiv = document.currentScript.previousElementSibling;\n",
       "    if (outputDiv.id !== \"altair-viz-2b4be7bc223c42999a6ad965b01da63a\") {\n",
       "      outputDiv = document.getElementById(\"altair-viz-2b4be7bc223c42999a6ad965b01da63a\");\n",
       "    }\n",
       "    const paths = {\n",
       "      \"vega\": \"https://cdn.jsdelivr.net/npm//vega@5?noext\",\n",
       "      \"vega-lib\": \"https://cdn.jsdelivr.net/npm//vega-lib?noext\",\n",
       "      \"vega-lite\": \"https://cdn.jsdelivr.net/npm//vega-lite@4.17.0?noext\",\n",
       "      \"vega-embed\": \"https://cdn.jsdelivr.net/npm//vega-embed@6?noext\",\n",
       "    };\n",
       "\n",
       "    function maybeLoadScript(lib, version) {\n",
       "      var key = `${lib.replace(\"-\", \"\")}_version`;\n",
       "      return (VEGA_DEBUG[key] == version) ?\n",
       "        Promise.resolve(paths[lib]) :\n",
       "        new Promise(function(resolve, reject) {\n",
       "          var s = document.createElement('script');\n",
       "          document.getElementsByTagName(\"head\")[0].appendChild(s);\n",
       "          s.async = true;\n",
       "          s.onload = () => {\n",
       "            VEGA_DEBUG[key] = version;\n",
       "            return resolve(paths[lib]);\n",
       "          };\n",
       "          s.onerror = () => reject(`Error loading script: ${paths[lib]}`);\n",
       "          s.src = paths[lib];\n",
       "        });\n",
       "    }\n",
       "\n",
       "    function showError(err) {\n",
       "      outputDiv.innerHTML = `<div class=\"error\" style=\"color:red;\">${err}</div>`;\n",
       "      throw err;\n",
       "    }\n",
       "\n",
       "    function displayChart(vegaEmbed) {\n",
       "      vegaEmbed(outputDiv, spec, embedOpt)\n",
       "        .catch(err => showError(`Javascript Error: ${err.message}<br>This usually means there's a typo in your chart specification. See the javascript console for the full traceback.`));\n",
       "    }\n",
       "\n",
       "    if(typeof define === \"function\" && define.amd) {\n",
       "      requirejs.config({paths});\n",
       "      require([\"vega-embed\"], displayChart, err => showError(`Error loading script: ${err.message}`));\n",
       "    } else {\n",
       "      maybeLoadScript(\"vega\", \"5\")\n",
       "        .then(() => maybeLoadScript(\"vega-lite\", \"4.17.0\"))\n",
       "        .then(() => maybeLoadScript(\"vega-embed\", \"6\"))\n",
       "        .catch(showError)\n",
       "        .then(() => displayChart(vegaEmbed));\n",
       "    }\n",
       "  })({\"config\": {\"view\": {\"continuousWidth\": 400, \"continuousHeight\": 300}}, \"vconcat\": [{\"layer\": [{\"mark\": \"rect\", \"encoding\": {\"color\": {\"aggregate\": \"count\", \"legend\": {\"title\": \"Total Records\"}, \"scale\": {\"scheme\": \"greenblue\"}, \"type\": \"quantitative\"}, \"x\": {\"bin\": true, \"field\": \"IMDB_Rating\", \"type\": \"quantitative\"}, \"y\": {\"bin\": true, \"field\": \"Rotten_Tomatoes_Rating\", \"type\": \"quantitative\"}}}, {\"mark\": \"point\", \"encoding\": {\"color\": {\"value\": \"grey\"}, \"size\": {\"aggregate\": \"count\", \"legend\": {\"title\": \"Records in Selection\"}, \"type\": \"quantitative\"}, \"x\": {\"bin\": true, \"field\": \"IMDB_Rating\", \"type\": \"quantitative\"}, \"y\": {\"bin\": true, \"field\": \"Rotten_Tomatoes_Rating\", \"type\": \"quantitative\"}}, \"transform\": [{\"filter\": {\"selection\": \"selector002\"}}]}], \"data\": {\"url\": \"https://cdn.jsdelivr.net/npm/vega-datasets@v1.29.0/data/movies.json\"}}, {\"data\": {\"url\": \"https://cdn.jsdelivr.net/npm/vega-datasets@v1.29.0/data/movies.json\"}, \"mark\": \"bar\", \"encoding\": {\"color\": {\"condition\": {\"value\": \"steelblue\", \"selection\": \"selector002\"}, \"value\": \"grey\"}, \"x\": {\"field\": \"Major_Genre\", \"type\": \"nominal\"}, \"y\": {\"aggregate\": \"count\", \"type\": \"quantitative\"}}, \"height\": 200, \"selection\": {\"selector002\": {\"type\": \"single\", \"encodings\": [\"x\"]}}, \"width\": 550}], \"resolve\": {\"legend\": {\"color\": \"independent\", \"size\": \"independent\"}}, \"$schema\": \"https://vega.github.io/schema/vega-lite/v4.17.0.json\"}, {\"mode\": \"vega-lite\"});\n",
       "</script>"
      ],
      "text/plain": [
       "alt.VConcatChart(...)"
      ]
     },
     "execution_count": 23,
     "metadata": {},
     "output_type": "execute_result"
    }
   ],
   "source": [
    "import altair as alt\n",
    "from vega_datasets import data\n",
    "\n",
    "source = data.movies.url\n",
    "\n",
    "pts = alt.selection(type=\"single\", encodings=['x'])\n",
    "\n",
    "rect = alt.Chart(data.movies.url).mark_rect().encode(\n",
    "    alt.X('IMDB_Rating:Q', bin=True),\n",
    "    alt.Y('Rotten_Tomatoes_Rating:Q', bin=True),\n",
    "    alt.Color('count()',\n",
    "        scale=alt.Scale(scheme='greenblue'),\n",
    "        legend=alt.Legend(title='Total Records')\n",
    "    )\n",
    ")\n",
    "\n",
    "circ = rect.mark_point().encode(\n",
    "    alt.ColorValue('grey'),\n",
    "    alt.Size('count()',\n",
    "        legend=alt.Legend(title='Records in Selection')\n",
    "    )\n",
    ").transform_filter(\n",
    "    pts\n",
    ")\n",
    "\n",
    "bar = alt.Chart(source).mark_bar().encode(\n",
    "    x='Major_Genre:N',\n",
    "    y='count()',\n",
    "    color=alt.condition(pts, alt.ColorValue(\"steelblue\"), alt.ColorValue(\"grey\"))\n",
    ").properties(\n",
    "    width=550,\n",
    "    height=200\n",
    ").add_selection(pts)\n",
    "\n",
    "alt.vconcat(\n",
    "    rect + circ,\n",
    "    bar\n",
    ").resolve_legend(\n",
    "    color=\"independent\",\n",
    "    size=\"independent\"\n",
    ")"
   ]
  },
  {
   "cell_type": "code",
   "execution_count": null,
   "id": "5b9c5052",
   "metadata": {},
   "outputs": [],
   "source": []
  }
 ],
 "metadata": {
  "kernelspec": {
   "display_name": "Python 3",
   "language": "python",
   "name": "python3"
  },
  "language_info": {
   "codemirror_mode": {
    "name": "ipython",
    "version": 3
   },
   "file_extension": ".py",
   "mimetype": "text/x-python",
   "name": "python",
   "nbconvert_exporter": "python",
   "pygments_lexer": "ipython3",
   "version": "3.7.10"
  }
 },
 "nbformat": 4,
 "nbformat_minor": 5
}
