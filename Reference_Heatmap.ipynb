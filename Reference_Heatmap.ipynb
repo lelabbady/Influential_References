{
 "cells": [
  {
   "cell_type": "code",
   "execution_count": 1,
   "id": "327f234d",
   "metadata": {},
   "outputs": [],
   "source": [
    "import pandas as pd\n",
    "import json"
   ]
  },
  {
   "cell_type": "code",
   "execution_count": 78,
   "id": "29642955",
   "metadata": {
    "scrolled": false
   },
   "outputs": [],
   "source": [
    "\n",
    "  \n",
    "# Opening JSON file\n",
    "f = open('./paper_data.json')\n",
    "  \n",
    "# returns JSON object as \n",
    "# a dictionary\n",
    "data = json.load(f)\n",
    "  \n",
    "# Iterating through the json\n",
    "# list\n",
    "papers = []\n",
    "title_dicts = []\n",
    "for i in data:\n",
    "#     print(i.keys())\n",
    "#     print(i['csl']['title'])\n",
    "#     print(i['s2data']['referenceCount'],i['s2data']['citationCount'],i['s2data']['influentialCitationCount'])\n",
    "#     print(i['s2data']['references'][0][''])\n",
    "    if 'csl' in i.keys() and i['csl'] != None:\n",
    "        #print(i['csl'])\n",
    "        t = i['csl']['title']\n",
    "        doi = i['doi']\n",
    "        mini_dict = {doi:{'title':t, 'tags':[], 'modes':[]}}\n",
    "        title_dicts.append(mini_dict)\n",
    "  \n",
    "# Closing file\n",
    "f.close()"
   ]
  },
  {
   "cell_type": "code",
   "execution_count": 79,
   "id": "348b8474",
   "metadata": {},
   "outputs": [
    {
     "data": {
      "text/plain": [
       "63"
      ]
     },
     "execution_count": 79,
     "metadata": {},
     "output_type": "execute_result"
    }
   ],
   "source": [
    "len(title_dicts)"
   ]
  },
  {
   "cell_type": "code",
   "execution_count": 80,
   "id": "7dfce3d7",
   "metadata": {
    "scrolled": true
   },
   "outputs": [
    {
     "data": {
      "text/plain": [
       "{'10.48550/arXiv.2205.02007': {'title': 'A Computational Inflection for Scientific Discovery',\n",
       "  'tags': [],\n",
       "  'modes': []}}"
      ]
     },
     "execution_count": 80,
     "metadata": {},
     "output_type": "execute_result"
    }
   ],
   "source": [
    "title_dicts[0]"
   ]
  },
  {
   "cell_type": "code",
   "execution_count": 96,
   "id": "4119b004",
   "metadata": {},
   "outputs": [],
   "source": [
    "ref_dicts = []\n",
    "for i in data:\n",
    "    #print(i.keys())\n",
    "    #print(i['csl']['title'])\n",
    "    #print(i['s2data']['referenceCount'],i['s2data']['citationCount'],i['s2data']['influentialCitationCount'])\n",
    "    #print(i['s2data']['references'][0])\n",
    "    if 'csl' in i.keys() and i['csl'] != None:\n",
    "        #print(i['csl'])\n",
    "        t = i['csl']['title']\n",
    "        doi = i['doi']\n",
    "        mini_dict = {doi:{'title':t, 'references':[], 'refCount':0}}\n",
    "        #print(i)\n",
    "        if type(i['s2data']) == dict:\n",
    "            #print(i['s2data'].keys())\n",
    "            mini_dict[doi]['refCount'] = i['s2data']['referenceCount']\n",
    "\n",
    "            ref_list = i['s2data']['references']\n",
    "            r_tuples = []\n",
    "            for r in ref_list:\n",
    "                if r['paperId'] == None:\n",
    "                    r_tup = (0,0,0)\n",
    "                else:\n",
    "                    r_tup = (r['paperId'],r['citationCount'],r['influentialCitationCount'])\n",
    "                r_tuples.append(r_tup)\n",
    "            \n",
    "            r_tuples = sorted(r_tuples, key=lambda x: x[1], reverse=True)\n",
    "            mini_dict[doi]['references']= r_tuples\n",
    "        #print(mini_dict.keys())\n",
    "        \n",
    "    ref_dicts.append(mini_dict)\n",
    "  \n",
    "# Closing file\n",
    "f.close()"
   ]
  },
  {
   "cell_type": "code",
   "execution_count": 97,
   "id": "815ba98b",
   "metadata": {},
   "outputs": [
    {
     "data": {
      "text/plain": [
       "{'10.48550/arXiv.2205.02007': {'title': 'A Computational Inflection for Scientific Discovery',\n",
       "  'references': [('0fc425a8004830fdd7f207efd4fa7a2331d56d3f', 52421, 1930),\n",
       "   ('330da625c15427c6e42ccfa3b747fb29e5835bf0', 23471, 3698),\n",
       "   ('228bafce55e6f1cbe2c1df75b1949a1fb9c93eb3', 14882, 717),\n",
       "   ('aecf01a12624754951e4523b3bc37de480faed81', 14460, 748),\n",
       "   ('6b85b63579a916f705a8e10a49bd8d849d91b1fc', 5944, 701),\n",
       "   ('29826ea86aff3025a9b4baaba47ea3e2772c006d', 5183, 155),\n",
       "   ('dc32a984b651256a8ec282be52310e6bd33d9815', 4718, 502),\n",
       "   ('c0373426c8e5579dcff60cc0bd930277822edc7d', 2632, 313),\n",
       "   ('053a25c6b6b63f95fb4e1577f0d4cf26eacae0a1', 1636, 91),\n",
       "   ('928a61768b492a3614e4c21453e079419d662891', 1318, 67),\n",
       "   ('5df85ae89af55c6d82a1a14836ea6bcfbfc2c0ec', 1162, 70),\n",
       "   ('92249d129fe423d292e7a707eaf55309931219f9', 885, 60),\n",
       "   ('43f4674bded8f35df66c3a6db9ca388735718872', 831, 83),\n",
       "   ('bec80155723f80c9ff33c9ed1af8c1933162dc4f', 761, 74),\n",
       "   ('98e65b3454813a7d8bcf20b5b2539ff2c4112bd8', 580, 20),\n",
       "   ('21321bad706a9f9dbb502588b0bb393cf15fa052', 560, 23),\n",
       "   ('4a10dffca6dcce9c570cb75aa4d76522c34a2fd4', 511, 79),\n",
       "   ('7f40eba81644fdb356102a1d97a75fae4e7d3856', 470, 11),\n",
       "   ('3a9d5418c3ddb6a83ffa7076004e0ba91aae6470', 289, 21),\n",
       "   ('c57293882b2561e1ba03017902df9fc2f289dea2', 267, 39),\n",
       "   ('dcb280611572b9dee5407c90f7155cbefcd75611', 229, 8),\n",
       "   ('5c5751d45e298cea054f32b392c12c61027d2fe7', 189, 47),\n",
       "   ('82adaf8804222437af2ab6d54d23f77a56631395', 157, 18),\n",
       "   ('a3e4ceb42cbcd2c807d53aff90a8cb1f5ee3f031', 148, 40),\n",
       "   ('a9aace96f62528a8442142154ca6fe61f494b141', 121, 1),\n",
       "   ('22fe8964c378f867e21aee197caf7f0c37331683', 75, 2),\n",
       "   ('a6df41592931b0cbb0049fc6e36d29ceacbd9c58', 75, 1),\n",
       "   ('a1f6be668885b3ce6c76315cdc55bbe6ea813936', 71, 4),\n",
       "   ('707baa9d77aa4d4852ee31954134ed0f3a4a58d3', 65, 7),\n",
       "   ('e631fb8b9b49ab3025ad31ef82edf42093a094df', 55, 8),\n",
       "   ('4f6c2f6e07315ec39f11432ff8465de64a495764', 48, 2),\n",
       "   ('53cdda81aba76cce8cbb11abeb49a9ae6bb9b476', 48, 1),\n",
       "   ('406289a706af2e00006a5823f245ef7bcd811681', 46, 0),\n",
       "   ('de49225bd0d1beb7dc0bf91acd0a9a263c70176e', 40, 6),\n",
       "   ('c154cc7013688fe15a1666457cc5fa7c6162d4f9', 39, 0),\n",
       "   ('0079692cd41bbf56e27f0744ec0fd595007dc9e7', 22, 1),\n",
       "   ('c4ce6aca9aed41d57d588674484932e0c2cd3547', 19, 1),\n",
       "   ('e673f54c4005931fd3392bbf95c80a9f5024d5c4', 18, 0),\n",
       "   ('a83cdcc0135c58fddf89fc72f1b92b7a9d1e170f', 17, 8),\n",
       "   ('1b72a2842c535502f639e6082562723717582046', 10, 0),\n",
       "   ('b72c342a62b8f201cd6b300969b1d9100da5a65b', 10, 0),\n",
       "   ('5bebacad8c1ba330314c87405a86d321f1cfda4b', 9, 0),\n",
       "   ('c9c0b6a7158b30c44aa1608719de9264fcc5ad5c', 9, 0),\n",
       "   ('1022414cdd267f67f3f578299675c1812dcac49a', 8, 1),\n",
       "   ('ee2289b89a651157139da24674cbb201f479b9bb', 7, 0),\n",
       "   ('f2cbbbbbca2a8b9636eca890dc1d14a9ac50b7a0', 7, 2),\n",
       "   ('d3d66806dbe0e6f768e76694fbf0e42caf4ba488', 7, 0),\n",
       "   ('876f3285465b6e9586a355c8acb8d96abe102e9a', 5, 1),\n",
       "   ('5bbbd1b30ab60b371c5e3ac3a2b35e37c04e0c45', 4, 1),\n",
       "   ('01c803711795e240c611950711210384c9887640', 4, 0),\n",
       "   ('8e87c5eaf084a05194f92fbec4eb456bc078e48e', 4, 0),\n",
       "   ('08b5a9cd4c73e5de7d0dc45b30bacd81bb69d30f', 3, 0),\n",
       "   ('449e58a29a3971d4d54d9bb28df3b31c60d20483', 2, 0),\n",
       "   ('b7e7cc5298262ac2e6659bead07a5ac45b13d1b3', 2, 0),\n",
       "   ('12e1ef96adaedbfc75012dbdddf6bd958b7fbc75', 2, 0),\n",
       "   ('4d02f1a1b99a21665ef94bcdec733a3f8f4056b4', 2, 0),\n",
       "   ('af38697d8acf289ce8b0ebe2bcc638aff0eb1a1d', 1, 0),\n",
       "   ('ddf3e112fe178e0a9e02da3d6a4919455be25654', 1, 0),\n",
       "   (0, 0, 0),\n",
       "   (0, 0, 0),\n",
       "   (0, 0, 0),\n",
       "   (0, 0, 0),\n",
       "   (0, 0, 0),\n",
       "   (0, 0, 0),\n",
       "   (0, 0, 0),\n",
       "   (0, 0, 0)],\n",
       "  'refCount': 66}}"
      ]
     },
     "execution_count": 97,
     "metadata": {},
     "output_type": "execute_result"
    }
   ],
   "source": [
    "ref_dicts[0]"
   ]
  },
  {
   "cell_type": "code",
   "execution_count": 100,
   "id": "52ab095a",
   "metadata": {},
   "outputs": [
    {
     "data": {
      "text/plain": [
       "2436"
      ]
     },
     "execution_count": 100,
     "metadata": {},
     "output_type": "execute_result"
    }
   ],
   "source": [
    "\n",
    "all_ref_dict = {}\n",
    "for i in ref_dicts:\n",
    "    #print(i.keys())\n",
    "    #print(i)\n",
    "    t = list(i.keys())[0]\n",
    "    \n",
    "    for j in i[t]['references']:\n",
    "        paperId = j[0]\n",
    "        citCount = j[1]\n",
    "        infCitCount = j[2]\n",
    "        if paperId in all_ref_dict.keys():\n",
    "            #print('Shared Reference!')\n",
    "            paper_list = all_ref_dict[paperId]['papers']\n",
    "            paper_list.append(paperId)\n",
    "            all_ref_dict[paperId]['papers'] = paper_list\n",
    "        else:\n",
    "            all_ref_dict[paperId]= {'citationCount':citCount,\n",
    "                                        'influentialCitationCount':infCitCount,\n",
    "                                        'papers':[paperId]}\n",
    "len(all_ref_dict)"
   ]
  },
  {
   "cell_type": "code",
   "execution_count": 102,
   "id": "d6461cf3",
   "metadata": {},
   "outputs": [],
   "source": [
    "import numpy as np"
   ]
  },
  {
   "cell_type": "code",
   "execution_count": 146,
   "id": "91803f81",
   "metadata": {},
   "outputs": [
    {
     "name": "stdout",
     "output_type": "stream",
     "text": [
      "65\n"
     ]
    },
    {
     "data": {
      "text/plain": [
       "(65, 10)"
      ]
     },
     "execution_count": 146,
     "metadata": {},
     "output_type": "execute_result"
    }
   ],
   "source": [
    "print(len(ref_dicts))\n",
    "\n",
    "i = ref_dicts[0]\n",
    "t = list(i.keys())[0]\n",
    "top_ten = i[t]['references'][:10]\n",
    "top_ten = [int(i[1]) for i in top_ten]\n",
    "top_ten_mat = np.array(top_ten)\n",
    "top_ten_mat = top_ten_mat.reshape((1,10))\n",
    "\n",
    "all_titles = [i[t]['title']]\n",
    "for ix, i in enumerate(ref_dicts[1:]):\n",
    "    t = list(i.keys())[0]\n",
    "    title = i[t]['title']\n",
    "    all_titles.append(title)\n",
    "    top_ten = i[t]['references'][:10]\n",
    "    top_ten = [int(i[1]) for i in top_ten]\n",
    "    if len(top_ten)<1:\n",
    "        top_ten = [0]*10\n",
    "    elif len(top_ten)<10:\n",
    "        extra = [0]*(10-len(top_ten))\n",
    "        top_ten += extra\n",
    "    top_ten = np.array(top_ten).reshape((1,10))\n",
    "    \n",
    "    top_ten_mat = np.concatenate([top_ten_mat,top_ten], axis=0)\n",
    "\n",
    "top_ten_mat.shape"
   ]
  },
  {
   "cell_type": "code",
   "execution_count": 149,
   "id": "4ace3324",
   "metadata": {},
   "outputs": [
    {
     "data": {
      "text/html": [
       "<div>\n",
       "<style scoped>\n",
       "    .dataframe tbody tr th:only-of-type {\n",
       "        vertical-align: middle;\n",
       "    }\n",
       "\n",
       "    .dataframe tbody tr th {\n",
       "        vertical-align: top;\n",
       "    }\n",
       "\n",
       "    .dataframe thead th {\n",
       "        text-align: right;\n",
       "    }\n",
       "</style>\n",
       "<table border=\"1\" class=\"dataframe\">\n",
       "  <thead>\n",
       "    <tr style=\"text-align: right;\">\n",
       "      <th></th>\n",
       "      <th>title</th>\n",
       "      <th>top_ref_0</th>\n",
       "      <th>top_ref_1</th>\n",
       "      <th>top_ref_2</th>\n",
       "      <th>top_ref_3</th>\n",
       "      <th>top_ref_4</th>\n",
       "      <th>top_ref_5</th>\n",
       "      <th>top_ref_6</th>\n",
       "      <th>top_ref_7</th>\n",
       "      <th>top_ref_8</th>\n",
       "      <th>top_ref_9</th>\n",
       "    </tr>\n",
       "  </thead>\n",
       "  <tbody>\n",
       "    <tr>\n",
       "      <th>0</th>\n",
       "      <td>A Computational Inflection for Scientific Disc...</td>\n",
       "      <td>52421</td>\n",
       "      <td>23471</td>\n",
       "      <td>14882</td>\n",
       "      <td>14460</td>\n",
       "      <td>5944</td>\n",
       "      <td>5183</td>\n",
       "      <td>4718</td>\n",
       "      <td>2632</td>\n",
       "      <td>1636</td>\n",
       "      <td>1318</td>\n",
       "    </tr>\n",
       "    <tr>\n",
       "      <th>1</th>\n",
       "      <td>Communicating with Interactive Articles</td>\n",
       "      <td>5483</td>\n",
       "      <td>4359</td>\n",
       "      <td>4316</td>\n",
       "      <td>1883</td>\n",
       "      <td>1837</td>\n",
       "      <td>1678</td>\n",
       "      <td>1675</td>\n",
       "      <td>1654</td>\n",
       "      <td>1636</td>\n",
       "      <td>1555</td>\n",
       "    </tr>\n",
       "    <tr>\n",
       "      <th>2</th>\n",
       "      <td>Capture &amp;amp; Analysis of Active Reading Behav...</td>\n",
       "      <td>24482</td>\n",
       "      <td>4295</td>\n",
       "      <td>4116</td>\n",
       "      <td>3828</td>\n",
       "      <td>3413</td>\n",
       "      <td>3200</td>\n",
       "      <td>898</td>\n",
       "      <td>339</td>\n",
       "      <td>335</td>\n",
       "      <td>176</td>\n",
       "    </tr>\n",
       "    <tr>\n",
       "      <th>3</th>\n",
       "      <td>Literate Programming</td>\n",
       "      <td>1423</td>\n",
       "      <td>702</td>\n",
       "      <td>561</td>\n",
       "      <td>149</td>\n",
       "      <td>55</td>\n",
       "      <td>36</td>\n",
       "      <td>14</td>\n",
       "      <td>9</td>\n",
       "      <td>4</td>\n",
       "      <td>0</td>\n",
       "    </tr>\n",
       "    <tr>\n",
       "      <th>4</th>\n",
       "      <td>Exploration and Explanation in Computational N...</td>\n",
       "      <td>8091</td>\n",
       "      <td>2063</td>\n",
       "      <td>1617</td>\n",
       "      <td>1090</td>\n",
       "      <td>898</td>\n",
       "      <td>887</td>\n",
       "      <td>781</td>\n",
       "      <td>759</td>\n",
       "      <td>648</td>\n",
       "      <td>613</td>\n",
       "    </tr>\n",
       "  </tbody>\n",
       "</table>\n",
       "</div>"
      ],
      "text/plain": [
       "                                               title  top_ref_0  top_ref_1  \\\n",
       "0  A Computational Inflection for Scientific Disc...      52421      23471   \n",
       "1            Communicating with Interactive Articles       5483       4359   \n",
       "2  Capture &amp; Analysis of Active Reading Behav...      24482       4295   \n",
       "3                               Literate Programming       1423        702   \n",
       "4  Exploration and Explanation in Computational N...       8091       2063   \n",
       "\n",
       "   top_ref_2  top_ref_3  top_ref_4  top_ref_5  top_ref_6  top_ref_7  \\\n",
       "0      14882      14460       5944       5183       4718       2632   \n",
       "1       4316       1883       1837       1678       1675       1654   \n",
       "2       4116       3828       3413       3200        898        339   \n",
       "3        561        149         55         36         14          9   \n",
       "4       1617       1090        898        887        781        759   \n",
       "\n",
       "   top_ref_8  top_ref_9  \n",
       "0       1636       1318  \n",
       "1       1636       1555  \n",
       "2        335        176  \n",
       "3          4          0  \n",
       "4        648        613  "
      ]
     },
     "execution_count": 149,
     "metadata": {},
     "output_type": "execute_result"
    }
   ],
   "source": [
    "top_df = pd.DataFrame({'title':all_titles,'top_ref_0':top_ten_mat[:,0],\n",
    "                     'top_ref_1':top_ten_mat[:,1],'top_ref_2':top_ten_mat[:,2],\n",
    "                     'top_ref_3':top_ten_mat[:,3],'top_ref_4':top_ten_mat[:,4],\n",
    "                     'top_ref_5':top_ten_mat[:,5],'top_ref_6':top_ten_mat[:,6],\n",
    "                     'top_ref_7':top_ten_mat[:,7],'top_ref_8':top_ten_mat[:,8],\n",
    "                     'top_ref_9':top_ten_mat[:,9]})\n",
    "\n",
    "top_df.head()"
   ]
  },
  {
   "cell_type": "markdown",
   "id": "704898b9",
   "metadata": {},
   "source": [
    "### To Dos\n",
    "\n",
    "\n",
    "- create bar chart based on tags (incorporate theory/tools distinction)\n",
    "- (find a more robust way to parse titles)\n",
    "- collect top infleuntial citations for each paper (from semantic scholar)\n",
    "- aggregate top papers for each 'group' - as defined by bar chart\n",
    "- create heatmap based on top paper data\n",
    "- publish to website"
   ]
  },
  {
   "cell_type": "code",
   "execution_count": 5,
   "id": "893088c1",
   "metadata": {},
   "outputs": [],
   "source": [
    "topics = ['authoring', 'augmented_lit_search','augmented_visualizations','collaboration',\n",
    "          'augmented_formatting','accessibility','analytics']\n",
    "modes = ['theory','tools']"
   ]
  },
  {
   "cell_type": "code",
   "execution_count": 6,
   "id": "1f558594",
   "metadata": {},
   "outputs": [
    {
     "data": {
      "text/plain": [
       "{'10.18653/v1/N18-3011': {'title': 'Construction of the Literature Graph in Semantic Scholar',\n",
       "  'tags': [],\n",
       "  'modes': []}}"
      ]
     },
     "execution_count": 6,
     "metadata": {},
     "output_type": "execute_result"
    }
   ],
   "source": [
    "title_dicts[32]"
   ]
  },
  {
   "cell_type": "code",
   "execution_count": null,
   "id": "15c5bca1",
   "metadata": {},
   "outputs": [],
   "source": [
    "source = top_df\n",
    "\n",
    "pts = alt.selection(type=\"single\", encodings=['x'])\n",
    "\n",
    "rect = alt.Chart(top_df).mark_rect().encode(\n",
    "    alt.X('IMDB_Rating:Q', bin=True),\n",
    "    alt.Y('Rotten_Tomatoes_Rating:Q', bin=True),\n",
    "    alt.Color('count()',\n",
    "        scale=alt.Scale(scheme='greenblue'),\n",
    "        legend=alt.Legend(title='Total Records')\n",
    "    )\n",
    ")\n",
    "\n",
    "circ = rect.mark_point().encode(\n",
    "    alt.ColorValue('grey'),\n",
    "    alt.Size('count()',\n",
    "        legend=alt.Legend(title='Records in Selection')\n",
    "    )\n",
    ").transform_filter(\n",
    "    pts\n",
    ")\n",
    "\n",
    "bar = alt.Chart(source).mark_bar().encode(\n",
    "    x='Major_Genre:N',\n",
    "    y='count()',\n",
    "    color=alt.condition(pts, alt.ColorValue(\"steelblue\"), alt.ColorValue(\"grey\"))\n",
    ").properties(\n",
    "    width=550,\n",
    "    height=200\n",
    ").add_selection(pts)\n",
    "\n",
    "alt.vconcat(\n",
    "    rect + circ,\n",
    "    bar\n",
    ").resolve_legend(\n",
    "    color=\"independent\",\n",
    "    size=\"independent\"\n",
    ")"
   ]
  },
  {
   "cell_type": "code",
   "execution_count": 74,
   "id": "39b343cd",
   "metadata": {},
   "outputs": [
    {
     "data": {
      "text/html": [
       "\n",
       "<div id=\"altair-viz-0da2b25b1bb042cf9da1fea595eb4a57\"></div>\n",
       "<script type=\"text/javascript\">\n",
       "  var VEGA_DEBUG = (typeof VEGA_DEBUG == \"undefined\") ? {} : VEGA_DEBUG;\n",
       "  (function(spec, embedOpt){\n",
       "    let outputDiv = document.currentScript.previousElementSibling;\n",
       "    if (outputDiv.id !== \"altair-viz-0da2b25b1bb042cf9da1fea595eb4a57\") {\n",
       "      outputDiv = document.getElementById(\"altair-viz-0da2b25b1bb042cf9da1fea595eb4a57\");\n",
       "    }\n",
       "    const paths = {\n",
       "      \"vega\": \"https://cdn.jsdelivr.net/npm//vega@5?noext\",\n",
       "      \"vega-lib\": \"https://cdn.jsdelivr.net/npm//vega-lib?noext\",\n",
       "      \"vega-lite\": \"https://cdn.jsdelivr.net/npm//vega-lite@4.17.0?noext\",\n",
       "      \"vega-embed\": \"https://cdn.jsdelivr.net/npm//vega-embed@6?noext\",\n",
       "    };\n",
       "\n",
       "    function maybeLoadScript(lib, version) {\n",
       "      var key = `${lib.replace(\"-\", \"\")}_version`;\n",
       "      return (VEGA_DEBUG[key] == version) ?\n",
       "        Promise.resolve(paths[lib]) :\n",
       "        new Promise(function(resolve, reject) {\n",
       "          var s = document.createElement('script');\n",
       "          document.getElementsByTagName(\"head\")[0].appendChild(s);\n",
       "          s.async = true;\n",
       "          s.onload = () => {\n",
       "            VEGA_DEBUG[key] = version;\n",
       "            return resolve(paths[lib]);\n",
       "          };\n",
       "          s.onerror = () => reject(`Error loading script: ${paths[lib]}`);\n",
       "          s.src = paths[lib];\n",
       "        });\n",
       "    }\n",
       "\n",
       "    function showError(err) {\n",
       "      outputDiv.innerHTML = `<div class=\"error\" style=\"color:red;\">${err}</div>`;\n",
       "      throw err;\n",
       "    }\n",
       "\n",
       "    function displayChart(vegaEmbed) {\n",
       "      vegaEmbed(outputDiv, spec, embedOpt)\n",
       "        .catch(err => showError(`Javascript Error: ${err.message}<br>This usually means there's a typo in your chart specification. See the javascript console for the full traceback.`));\n",
       "    }\n",
       "\n",
       "    if(typeof define === \"function\" && define.amd) {\n",
       "      requirejs.config({paths});\n",
       "      require([\"vega-embed\"], displayChart, err => showError(`Error loading script: ${err.message}`));\n",
       "    } else {\n",
       "      maybeLoadScript(\"vega\", \"5\")\n",
       "        .then(() => maybeLoadScript(\"vega-lite\", \"4.17.0\"))\n",
       "        .then(() => maybeLoadScript(\"vega-embed\", \"6\"))\n",
       "        .catch(showError)\n",
       "        .then(() => displayChart(vegaEmbed));\n",
       "    }\n",
       "  })({\"config\": {\"view\": {\"continuousWidth\": 400, \"continuousHeight\": 300}}, \"vconcat\": [{\"layer\": [{\"mark\": \"rect\", \"encoding\": {\"color\": {\"aggregate\": \"count\", \"legend\": {\"title\": \"Total Records\"}, \"scale\": {\"scheme\": \"greenblue\"}, \"type\": \"quantitative\"}, \"x\": {\"bin\": true, \"field\": \"IMDB_Rating\", \"type\": \"quantitative\"}, \"y\": {\"bin\": true, \"field\": \"Rotten_Tomatoes_Rating\", \"type\": \"quantitative\"}}}, {\"mark\": \"point\", \"encoding\": {\"color\": {\"value\": \"grey\"}, \"size\": {\"aggregate\": \"count\", \"legend\": {\"title\": \"Records in Selection\"}, \"type\": \"quantitative\"}, \"x\": {\"bin\": true, \"field\": \"IMDB_Rating\", \"type\": \"quantitative\"}, \"y\": {\"bin\": true, \"field\": \"Rotten_Tomatoes_Rating\", \"type\": \"quantitative\"}}, \"transform\": [{\"filter\": {\"selection\": \"selector002\"}}]}], \"data\": {\"url\": \"https://cdn.jsdelivr.net/npm/vega-datasets@v1.29.0/data/movies.json\"}}, {\"data\": {\"url\": \"https://cdn.jsdelivr.net/npm/vega-datasets@v1.29.0/data/movies.json\"}, \"mark\": \"bar\", \"encoding\": {\"color\": {\"condition\": {\"value\": \"steelblue\", \"selection\": \"selector002\"}, \"value\": \"grey\"}, \"x\": {\"field\": \"Major_Genre\", \"type\": \"nominal\"}, \"y\": {\"aggregate\": \"count\", \"type\": \"quantitative\"}}, \"height\": 200, \"selection\": {\"selector002\": {\"type\": \"single\", \"encodings\": [\"x\"]}}, \"width\": 550}], \"resolve\": {\"legend\": {\"color\": \"independent\", \"size\": \"independent\"}}, \"$schema\": \"https://vega.github.io/schema/vega-lite/v4.17.0.json\"}, {\"mode\": \"vega-lite\"});\n",
       "</script>"
      ],
      "text/plain": [
       "alt.VConcatChart(...)"
      ]
     },
     "execution_count": 74,
     "metadata": {},
     "output_type": "execute_result"
    }
   ],
   "source": [
    "import altair as alt\n",
    "from vega_datasets import data\n",
    "\n",
    "source = data.movies.url\n",
    "\n",
    "pts = alt.selection(type=\"single\", encodings=['x'])\n",
    "\n",
    "rect = alt.Chart(data.movies.url).mark_rect().encode(\n",
    "    alt.X('IMDB_Rating:Q', bin=True),\n",
    "    alt.Y('Rotten_Tomatoes_Rating:Q', bin=True),\n",
    "    alt.Color('count()',\n",
    "        scale=alt.Scale(scheme='greenblue'),\n",
    "        legend=alt.Legend(title='Total Records')\n",
    "    )\n",
    ")\n",
    "\n",
    "circ = rect.mark_point().encode(\n",
    "    alt.ColorValue('grey'),\n",
    "    alt.Size('count()',\n",
    "        legend=alt.Legend(title='Records in Selection')\n",
    "    )\n",
    ").transform_filter(\n",
    "    pts\n",
    ")\n",
    "\n",
    "bar = alt.Chart(source).mark_bar().encode(\n",
    "    x='Major_Genre:N',\n",
    "    y='count()',\n",
    "    color=alt.condition(pts, alt.ColorValue(\"steelblue\"), alt.ColorValue(\"grey\"))\n",
    ").properties(\n",
    "    width=550,\n",
    "    height=200\n",
    ").add_selection(pts)\n",
    "\n",
    "alt.vconcat(\n",
    "    rect + circ,\n",
    "    bar\n",
    ").resolve_legend(\n",
    "    color=\"independent\",\n",
    "    size=\"independent\"\n",
    ")"
   ]
  },
  {
   "cell_type": "code",
   "execution_count": null,
   "id": "5b9c5052",
   "metadata": {},
   "outputs": [],
   "source": []
  }
 ],
 "metadata": {
  "kernelspec": {
   "display_name": "Python 3",
   "language": "python",
   "name": "python3"
  },
  "language_info": {
   "codemirror_mode": {
    "name": "ipython",
    "version": 3
   },
   "file_extension": ".py",
   "mimetype": "text/x-python",
   "name": "python",
   "nbconvert_exporter": "python",
   "pygments_lexer": "ipython3",
   "version": "3.7.10"
  }
 },
 "nbformat": 4,
 "nbformat_minor": 5
}
